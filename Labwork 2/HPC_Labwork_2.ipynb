{
  "nbformat": 4,
  "nbformat_minor": 0,
  "metadata": {
    "colab": {
      "provenance": [],
      "gpuType": "T4"
    },
    "kernelspec": {
      "name": "python3",
      "display_name": "Python 3"
    },
    "language_info": {
      "name": "python"
    },
    "accelerator": "GPU"
  },
  "cells": [
    {
      "cell_type": "code",
      "execution_count": 2,
      "metadata": {
        "id": "j8Efri7X-TEh"
      },
      "outputs": [],
      "source": [
        "from numba import cuda"
      ]
    },
    {
      "cell_type": "code",
      "source": [
        "cuda.detect()\n",
        "\n",
        "device = cuda.select_device(0)\n",
        "\n",
        "print(\"GPU Selected:\")\n",
        "print(f\"ID: {device.id}\")\n",
        "print(f\"Name: {device.name}\")"
      ],
      "metadata": {
        "colab": {
          "base_uri": "https://localhost:8080/"
        },
        "id": "6fZaT6Lx8g41",
        "outputId": "55d8682b-39a2-47d5-f0c2-8dfee57aa5b8"
      },
      "execution_count": 13,
      "outputs": [
        {
          "output_type": "stream",
          "name": "stdout",
          "text": [
            "Found 1 CUDA devices\n",
            "id 0             b'Tesla T4'                              [SUPPORTED]\n",
            "                      Compute Capability: 7.5\n",
            "                           PCI Device ID: 4\n",
            "                              PCI Bus ID: 0\n",
            "                                    UUID: GPU-ec2f5508-7cfb-15ab-2d59-155d438084ce\n",
            "                                Watchdog: Disabled\n",
            "             FP32/FP64 Performance Ratio: 32\n",
            "Summary:\n",
            "\t1/1 devices are supported\n",
            "GPU Selected:\n",
            "ID: 0\n",
            "Name: b'Tesla T4'\n"
          ]
        }
      ]
    },
    {
      "cell_type": "code",
      "source": [
        "device = cuda.get_current_device()\n",
        "\n",
        "print(\"GPU Selected:\")\n",
        "print(f\"ID: {device.id}\")\n",
        "print(f\"Name: {device.name.decode() if isinstance(device.name, bytes) else device.name}\")\n"
      ],
      "metadata": {
        "colab": {
          "base_uri": "https://localhost:8080/"
        },
        "id": "eVuyqOb6-Jb3",
        "outputId": "b9d8101f-ff6a-4354-b0e9-45ac5e14f142"
      },
      "execution_count": 14,
      "outputs": [
        {
          "output_type": "stream",
          "name": "stdout",
          "text": [
            "GPU Selected:\n",
            "ID: 0\n",
            "Name: Tesla T4\n"
          ]
        }
      ]
    },
    {
      "cell_type": "code",
      "source": [
        "meminfo = cuda.current_context().get_memory_info()\n",
        "total_mem = meminfo[1] / (1024 ** 3)\n",
        "free_mem  = meminfo[0] / (1024 ** 3)\n",
        "\n",
        "print(\"Memory Info:\")\n",
        "print(f\"Total GPU Memory : {total_mem:.2f} GB\")\n",
        "print(f\"Free  GPU Memory : {free_mem:.2f} GB\")\n"
      ],
      "metadata": {
        "colab": {
          "base_uri": "https://localhost:8080/"
        },
        "id": "0aEdMo-8-LkD",
        "outputId": "68e69b64-7686-4eaa-d911-83538e546b9f"
      },
      "execution_count": 15,
      "outputs": [
        {
          "output_type": "stream",
          "name": "stdout",
          "text": [
            "Memory Info:\n",
            "Total GPU Memory : 14.74 GB\n",
            "Free  GPU Memory : 14.64 GB\n"
          ]
        }
      ]
    },
    {
      "cell_type": "code",
      "source": [
        "device = cuda.get_current_device()\n",
        "\n",
        "multiprocessor_count = device.MULTIPROCESSOR_COUNT\n",
        "\n",
        "print(f\"Number of multiprocessors: {multiprocessor_count}\")"
      ],
      "metadata": {
        "colab": {
          "base_uri": "https://localhost:8080/"
        },
        "id": "_xHJUiaD-tnA",
        "outputId": "c736b942-ef0c-4f9b-c805-afa238e3f208"
      },
      "execution_count": 16,
      "outputs": [
        {
          "output_type": "stream",
          "name": "stdout",
          "text": [
            "Number of multiprocessors: 40\n"
          ]
        }
      ]
    },
    {
      "cell_type": "code",
      "source": [
        "threads_per_multiprocessors = device.WARP_SIZE * 32\n",
        "\n",
        "total_cores = multiprocessor_count * threads_per_multiprocessors\n",
        "print(f\"Number of cores: {total_cores}\")"
      ],
      "metadata": {
        "colab": {
          "base_uri": "https://localhost:8080/"
        },
        "id": "SJE568kX-x-n",
        "outputId": "e97c93f7-6e3b-4b0a-8d7f-22b7577ea687"
      },
      "execution_count": 17,
      "outputs": [
        {
          "output_type": "stream",
          "name": "stdout",
          "text": [
            "Number of cores: 40960\n"
          ]
        }
      ]
    }
  ]
}